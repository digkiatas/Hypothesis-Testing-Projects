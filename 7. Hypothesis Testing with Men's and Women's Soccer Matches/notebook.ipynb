{
 "cells": [
  {
   "cell_type": "markdown",
   "id": "3ed0edb2-696b-49ab-9db0-681defcce695",
   "metadata": {},
   "source": [
    "![A soccer pitch for an international match.](soccer-pitch.jpg)\n",
    "\n",
    "You're working as a sports journalist at a major online sports media company, specializing in soccer analysis and reporting. You've been watching both men's and women's international soccer matches for a number of years, and your gut instinct tells you that more goals are scored in women's international football matches than men's. This would make an interesting investigative article that your subscribers are bound to love, but you'll need to perform a valid statistical hypothesis test to be sure!\n",
    "\n",
    "While scoping this project, you acknowledge that the sport has changed a lot over the years, and performances likely vary a lot depending on the tournament, so you decide to limit the data used in the analysis to only official `FIFA World Cup` matches (not including qualifiers) since `2002-01-01`.\n",
    "\n",
    "You create two datasets containing the results of every official men's and women's international football match since the 19th century, which you scraped from a reliable online source. This data is stored in two CSV files: `women_results.csv` and `men_results.csv`.\n",
    "\n",
    "The question you are trying to determine the answer to is:\n",
    "\n",
    "> Are more goals scored in women's international soccer matches than men's?\n",
    "\n",
    "You assume a **10% significance level**, and use the following null and alternative hypotheses:\n",
    "\n",
    "$H_0$ : The mean number of goals scored in women's international soccer matches is the same as men's.\n",
    "\n",
    "$H_A$ : The mean number of goals scored in women's international soccer matches is greater than men's."
   ]
  },
  {
   "cell_type": "code",
   "execution_count": 71,
   "id": "84a3c4c8-534b-4d1a-9919-17e05208b2ca",
   "metadata": {
    "executionCancelledAt": null,
    "executionTime": 9,
    "lastExecutedAt": 1717165817538,
    "lastExecutedByKernel": "65462e98-9d4d-4016-b1d3-492681c3cd67",
    "lastScheduledRunId": null,
    "lastSuccessfullyExecutedCode": "# Start your code here!\nimport pandas as pd\nimport matplotlib.pyplot as plt\nimport seaborn as sns\nfrom scipy.stats import shapiro\nimport pingouin"
   },
   "outputs": [],
   "source": [
    "# Start your code here!\n",
    "import pandas as pd\n",
    "import matplotlib.pyplot as plt\n",
    "import seaborn as sns\n",
    "from scipy.stats import shapiro\n",
    "import pingouin"
   ]
  },
  {
   "cell_type": "code",
   "execution_count": 72,
   "id": "0e41eb57-3631-42d3-9f66-3a850fae8188",
   "metadata": {
    "executionCancelledAt": null,
    "executionTime": 60,
    "lastExecutedAt": 1717165817598,
    "lastExecutedByKernel": "65462e98-9d4d-4016-b1d3-492681c3cd67",
    "lastScheduledRunId": null,
    "lastSuccessfullyExecutedCode": "men_stats = pd.read_csv('men_results.csv')\nwomen_stats = pd.read_csv('women_results.csv')"
   },
   "outputs": [],
   "source": [
    "men_stats = pd.read_csv('men_results.csv')\n",
    "women_stats = pd.read_csv('women_results.csv')"
   ]
  },
  {
   "cell_type": "code",
   "execution_count": 73,
   "id": "525aa488-1b81-465d-9bc8-4cd0e8b7f544",
   "metadata": {
    "executionCancelledAt": null,
    "executionTime": 54,
    "lastExecutedAt": 1717165817653,
    "lastExecutedByKernel": "65462e98-9d4d-4016-b1d3-492681c3cd67",
    "lastScheduledRunId": null,
    "lastSuccessfullyExecutedCode": "men_stats['tournament'].value_counts()",
    "outputsMetadata": {
     "0": {
      "height": 321,
      "type": "dataFrame"
     }
    }
   },
   "outputs": [
    {
     "data": {
      "application/com.datacamp.data-table.v2+json": {
       "table": {
        "data": {
         "index": [
          "Friendly",
          "FIFA World Cup qualification",
          "UEFA Euro qualification",
          "African Cup of Nations qualification",
          "FIFA World Cup",
          "Copa América",
          "AFC Asian Cup qualification",
          "African Cup of Nations",
          "CECAFA Cup",
          "CFU Caribbean Cup qualification",
          "Merdeka Tournament",
          "British Home Championship",
          "UEFA Nations League",
          "Gulf Cup",
          "AFC Asian Cup",
          "Gold Cup",
          "Island Games",
          "UEFA Euro",
          "COSAFA Cup",
          "AFF Championship",
          "Nordic Championship",
          "African Nations Championship",
          "CFU Caribbean Cup",
          "King's Cup",
          "Amílcar Cabral Cup",
          "South Pacific Games",
          "CONCACAF Nations League",
          "CONCACAF Championship",
          "UNCAF Cup",
          "Korea Cup",
          "CONCACAF Championship qualification",
          "SAFF Cup",
          "Arab Cup",
          "Confederations Cup",
          "Oceania Nations Cup",
          "Central European International Cup",
          "CCCF Championship",
          "EAFF Championship",
          "CONIFA World Football Cup",
          "Windward Islands Tournament",
          "AFC Challenge Cup",
          "Baltic Cup",
          "WAFF Championship",
          "AFC Challenge Cup qualification",
          "Nehru Cup",
          "Balkan Cup",
          "Kirin Cup",
          "Indonesia Tournament",
          "Cyprus International Tournament",
          "CONCACAF Nations League qualification",
          "Gold Cup qualification",
          "UDEAC Cup",
          "African Nations Championship qualification",
          "Vietnam Independence Cup",
          "Oceania Nations Cup qualification",
          "Palestine Cup",
          "Viva World Cup",
          "West African Cup",
          "Malta International Tournament",
          "Pacific Games",
          "CONIFA European Football Cup",
          "Pan American Championship",
          "Brazil Independence Cup",
          "USA Cup",
          "United Arab Emirates Friendship Tournament",
          "Dynasty Cup",
          "Copa Chevallier Boutell",
          "Copa Lipton",
          "COSAFA Cup qualification",
          "Copa Newton",
          "Merlion Cup",
          "Lunar New Year Cup",
          "Arab Cup qualification",
          "Copa Roca",
          "Copa Paz del Chaco",
          "Kirin Challenge Cup",
          "Prime Minister's Cup",
          "ABCS Tournament",
          "Copa del Pacífico",
          "Inter Games Football Tournament",
          "Copa Rio Branco",
          "Simba Tournament",
          "Jordan International Tournament",
          "Copa Carlos Dittborn",
          "ELF Cup",
          "Copa Oswaldo Cruz",
          "Copa Juan Pinto Durán",
          "Millennium Cup",
          "Kuneitra Cup",
          "Dunhill Cup",
          "Pacific Mini Games",
          "Copa Premio Honor Uruguayo",
          "UNIFFAC Cup",
          "Intercontinental Cup",
          "Nile Basin Tournament",
          "GaNEFo",
          "Copa Artigas",
          "Copa Premio Honor Argentino",
          "King Hassan II Tournament",
          "Rous Cup",
          "Atlantic Cup",
          "SKN Football Festival",
          "Bolivarian Games",
          "Tournament Burkina Faso",
          "FIFI Wild Cup",
          "Beijing International Friendship Tournament",
          "Tournoi de France",
          "Copa Bernardo O'Higgins",
          "VFF Cup",
          "Superclásico de las Américas",
          "Mundialito",
          "Mahinda Rajapaksa Cup",
          "Nations Cup",
          "MSG Prime Minister's Cup",
          "Copa Ramón Castilla",
          "Copa Félix Bogado",
          "NAFC Championship",
          "Matthews Cup",
          "AFF Championship qualification",
          "Afro-Asian Games",
          "Guangzhou International Friendship Tournament",
          "World Unity Cup",
          "Dragon Cup",
          "OSN Cup",
          "NAFU Championship",
          "Dakar Tournament",
          "Navruz Cup",
          "CONIFA Africa Football Cup",
          "Great Wall Cup",
          "Phillip Seaga Cup",
          "Three Nations Cup",
          "CONIFA South America Football Cup",
          "CONMEBOL–UEFA Cup of Champions",
          "Atlantic Heritage Cup",
          "Copa América qualification",
          "Cup of Ancient Civilizations",
          "Real Madrid 75th Anniversary Cup",
          "Évence Coppée Trophy",
          "Copa Confraternidad",
          "TIFOCO Tournament",
          "FIFA 75th Anniversary Cup"
         ],
         "tournament": [
          17519,
          7878,
          2585,
          1932,
          964,
          841,
          764,
          741,
          620,
          606,
          595,
          517,
          468,
          380,
          370,
          358,
          350,
          337,
          309,
          293,
          283,
          264,
          251,
          239,
          235,
          205,
          173,
          169,
          164,
          159,
          151,
          147,
          144,
          140,
          128,
          126,
          123,
          122,
          101,
          101,
          100,
          98,
          97,
          92,
          89,
          87,
          75,
          75,
          70,
          68,
          65,
          65,
          64,
          60,
          58,
          58,
          56,
          54,
          53,
          51,
          49,
          39,
          37,
          37,
          31,
          29,
          29,
          28,
          27,
          26,
          25,
          25,
          24,
          23,
          23,
          22,
          22,
          20,
          19,
          19,
          18,
          17,
          17,
          16,
          16,
          16,
          16,
          15,
          15,
          15,
          15,
          15,
          15,
          14,
          14,
          14,
          13,
          12,
          12,
          11,
          11,
          11,
          11,
          11,
          10,
          10,
          10,
          10,
          9,
          8,
          7,
          7,
          6,
          6,
          6,
          6,
          6,
          4,
          4,
          4,
          4,
          4,
          4,
          4,
          4,
          4,
          4,
          4,
          4,
          3,
          3,
          3,
          3,
          2,
          2,
          2,
          1,
          1,
          1,
          1,
          1
         ]
        },
        "schema": {
         "fields": [
          {
           "name": "index",
           "type": "string"
          },
          {
           "name": "tournament",
           "type": "integer"
          }
         ],
         "pandas_version": "1.4.0",
         "primaryKey": [
          "index"
         ]
        }
       },
       "total_rows": 141,
       "truncation_type": null
      },
      "text/plain": [
       "Friendly                                17519\n",
       "FIFA World Cup qualification             7878\n",
       "UEFA Euro qualification                  2585\n",
       "African Cup of Nations qualification     1932\n",
       "FIFA World Cup                            964\n",
       "                                        ...  \n",
       "Real Madrid 75th Anniversary Cup            1\n",
       "Évence Coppée Trophy                        1\n",
       "Copa Confraternidad                         1\n",
       "TIFOCO Tournament                           1\n",
       "FIFA 75th Anniversary Cup                   1\n",
       "Name: tournament, Length: 141, dtype: int64"
      ]
     },
     "execution_count": 73,
     "metadata": {},
     "output_type": "execute_result"
    }
   ],
   "source": [
    "men_stats['tournament'].value_counts()"
   ]
  },
  {
   "cell_type": "code",
   "execution_count": 74,
   "id": "ce728839-9719-41eb-975c-13d98f137a46",
   "metadata": {
    "executionCancelledAt": null,
    "executionTime": 56,
    "lastExecutedAt": 1717165817709,
    "lastExecutedByKernel": "65462e98-9d4d-4016-b1d3-492681c3cd67",
    "lastScheduledRunId": null,
    "lastSuccessfullyExecutedCode": "women_stats.info()",
    "outputsMetadata": {
     "0": {
      "height": 311,
      "type": "stream"
     }
    }
   },
   "outputs": [
    {
     "name": "stdout",
     "output_type": "stream",
     "text": [
      "<class 'pandas.core.frame.DataFrame'>\n",
      "RangeIndex: 4884 entries, 0 to 4883\n",
      "Data columns (total 7 columns):\n",
      " #   Column      Non-Null Count  Dtype \n",
      "---  ------      --------------  ----- \n",
      " 0   Unnamed: 0  4884 non-null   int64 \n",
      " 1   date        4884 non-null   object\n",
      " 2   home_team   4884 non-null   object\n",
      " 3   away_team   4884 non-null   object\n",
      " 4   home_score  4884 non-null   int64 \n",
      " 5   away_score  4884 non-null   int64 \n",
      " 6   tournament  4884 non-null   object\n",
      "dtypes: int64(3), object(4)\n",
      "memory usage: 267.2+ KB\n"
     ]
    }
   ],
   "source": [
    "women_stats.info()"
   ]
  },
  {
   "cell_type": "code",
   "execution_count": 75,
   "id": "3cd50ca5-8da4-4354-aa99-e57a54870f38",
   "metadata": {
    "executionCancelledAt": null,
    "executionTime": 52,
    "lastExecutedAt": 1717165817761,
    "lastExecutedByKernel": "65462e98-9d4d-4016-b1d3-492681c3cd67",
    "lastScheduledRunId": null,
    "lastSuccessfullyExecutedCode": "# Filtering the data\n\n# Considering only FIFA World Cup matches\nmen_stats_filtered = men_stats[men_stats['tournament'] == 'FIFA World Cup']\nwomen_stats_filtered = women_stats[women_stats['tournament'] == 'FIFA World Cup']\n\n# Considering matches after 01.01.2002\nmen_stats_filtered['date'] = pd.to_datetime(men_stats_filtered['date'])\nmen_stats_filtered['year'] = men_stats_filtered['date'].dt.year\nmen_stats_filtered_year = men_stats_filtered[men_stats_filtered['year'] > 2001]\nmen_stats_filtered_year[['tournament','year']].value_counts()\n\nwomen_stats_filtered['date'] = pd.to_datetime(women_stats_filtered['date'])\nwomen_stats_filtered['year'] = women_stats_filtered['date'].dt.year\nwomen_stats_filtered_year = women_stats_filtered[women_stats_filtered['year'] > 2001]\nwomen_stats_filtered_year['year'].value_counts()\n\nprint('From 2002 onwards, there were',len(women_stats_filtered_year), 'FIFA World Cup matches in the womens international soccer and', len(men_stats_filtered_year), 'FIFA World Cup matches for the mens international soccer.' )",
    "outputsMetadata": {
     "0": {
      "height": 59,
      "type": "stream"
     }
    }
   },
   "outputs": [
    {
     "name": "stdout",
     "output_type": "stream",
     "text": [
      "From 2002 onwards, there were 200 FIFA World Cup matches in the womens international soccer and 384 FIFA World Cup matches for the mens international soccer.\n"
     ]
    }
   ],
   "source": [
    "# Filtering the data\n",
    "\n",
    "# Considering only FIFA World Cup matches\n",
    "men_stats_filtered = men_stats[men_stats['tournament'] == 'FIFA World Cup']\n",
    "women_stats_filtered = women_stats[women_stats['tournament'] == 'FIFA World Cup']\n",
    "\n",
    "# Considering matches after 01.01.2002\n",
    "men_stats_filtered['date'] = pd.to_datetime(men_stats_filtered['date'])\n",
    "men_stats_filtered['year'] = men_stats_filtered['date'].dt.year\n",
    "men_stats_filtered_year = men_stats_filtered[men_stats_filtered['year'] > 2001]\n",
    "men_stats_filtered_year[['tournament','year']].value_counts()\n",
    "\n",
    "women_stats_filtered['date'] = pd.to_datetime(women_stats_filtered['date'])\n",
    "women_stats_filtered['year'] = women_stats_filtered['date'].dt.year\n",
    "women_stats_filtered_year = women_stats_filtered[women_stats_filtered['year'] > 2001]\n",
    "women_stats_filtered_year['year'].value_counts()\n",
    "\n",
    "print('From 2002 onwards, there were',len(women_stats_filtered_year), 'FIFA World Cup matches in the womens international soccer and', len(men_stats_filtered_year), 'FIFA World Cup matches for the mens international soccer.' )"
   ]
  },
  {
   "cell_type": "code",
   "execution_count": 76,
   "id": "8c48c514-8fab-4bf5-b9e4-677b9c586fa4",
   "metadata": {
    "executionCancelledAt": null,
    "executionTime": 569,
    "lastExecutedAt": 1717165818330,
    "lastExecutedByKernel": "65462e98-9d4d-4016-b1d3-492681c3cd67",
    "lastScheduledRunId": null,
    "lastSuccessfullyExecutedCode": "# Choosing the correct hypothesis testing - Unpaired t-test vs Wilcoxon-Mann-Whitney test\n\nmen_stats_filtered_year['goals_scored'] = men_stats_filtered_year['home_score'] + men_stats_filtered_year['away_score']\nwomen_stats_filtered_year['goals_scored'] = women_stats_filtered_year['home_score'] + women_stats_filtered_year['away_score']\n\n# Display normality or not of data from histograms\nfig, axes = plt.subplots(1, 2, figsize = (14,6), sharey = True)\n\nsns.histplot(men_stats_filtered_year['goals_scored'], kde = True, stat = 'density', linewidth = 0, ax = axes[0])\naxes[0].set_title('Distribution of goals scored in men\\'s matches')\n\nsns.histplot(women_stats_filtered_year['goals_scored'], kde = True, stat = 'density', linewidth = 0, ax = axes[1])\naxes[1].set_title('Distribution of goals scored in women\\'s matches')\n\nplt.show()\n\nprint('The mean goals scored for men are', men_stats_filtered_year['goals_scored'].mean(), 'whereas for women are', women_stats_filtered_year['goals_scored'].mean())\n",
    "outputsMetadata": {
     "0": {
      "height": 213,
      "type": "dataFrame"
     },
     "1": {
      "height": 38,
      "type": "stream"
     }
    }
   },
   "outputs": [
    {
     "data": {
      "image/png": "[encoded data removed]",
      "text/plain": [
       "<Figure size 1400x600 with 2 Axes>"
      ]
     },
     "metadata": {
      "image/png": {
       "height": 547,
       "width": 1154
      }
     },
     "output_type": "display_data"
    },
    {
     "name": "stdout",
     "output_type": "stream",
     "text": [
      "The mean goals scored for men are 2.5130208333333335 whereas for women are 2.98\n"
     ]
    }
   ],
   "source": [
    "# Choosing the correct hypothesis testing - Unpaired t-test vs Wilcoxon-Mann-Whitney test\n",
    "\n",
    "men_stats_filtered_year['goals_scored'] = men_stats_filtered_year['home_score'] + men_stats_filtered_year['away_score']\n",
    "women_stats_filtered_year['goals_scored'] = women_stats_filtered_year['home_score'] + women_stats_filtered_year['away_score']\n",
    "\n",
    "# Display normality or not of data from histograms\n",
    "fig, axes = plt.subplots(1, 2, figsize = (14,6), sharey = True)\n",
    "\n",
    "sns.histplot(men_stats_filtered_year['goals_scored'], kde = True, stat = 'density', linewidth = 0, ax = axes[0])\n",
    "axes[0].set_title('Distribution of goals scored in men\\'s matches')\n",
    "\n",
    "sns.histplot(women_stats_filtered_year['goals_scored'], kde = True, stat = 'density', linewidth = 0, ax = axes[1])\n",
    "axes[1].set_title('Distribution of goals scored in women\\'s matches')\n",
    "\n",
    "plt.show()\n",
    "\n",
    "print('The mean goals scored for men are', men_stats_filtered_year['goals_scored'].mean(), 'whereas for women are', women_stats_filtered_year['goals_scored'].mean())\n"
   ]
  },
  {
   "cell_type": "code",
   "execution_count": 77,
   "id": "98c3f076-ca13-47ac-9323-5090a0586f7f",
   "metadata": {
    "executionCancelledAt": null,
    "executionTime": 51,
    "lastExecutedAt": 1717165818381,
    "lastExecutedByKernel": "65462e98-9d4d-4016-b1d3-492681c3cd67",
    "lastScheduledRunId": null,
    "lastSuccessfullyExecutedCode": "# Running a Shapiro-Wilk hypothesis test for normality of distribution\n# H_0: The data are normally distributed\n\nalpha = 0.1\nshapiro_men = shapiro(men_stats_filtered_year['goals_scored'])\nshapiro_women = shapiro(women_stats_filtered_year['goals_scored'])\n\nprint('From the Shapiro-Wilk test of normality we find that the p_value(men)=', shapiro_men[1], 'and the p_value(women)=', shapiro_women[1], '. Both are smaller than the confidence level alpha=', alpha, 'which leads to the fact that we should reject the null hypothesis that the data in both sets are normally distributed.')",
    "outputsMetadata": {
     "0": {
      "height": 80,
      "type": "stream"
     }
    }
   },
   "outputs": [
    {
     "name": "stdout",
     "output_type": "stream",
     "text": [
      "From the Shapiro-Wilk test of normality we find that the p_value(men)= 8.894154401688226e-13 and the p_value(women)= 3.8905201759850683e-13 . Both are smaller than the confidence level alpha= 0.1 which leads to the fact that we should reject the null hypothesis that the data in both sets are normally distributed.\n"
     ]
    }
   ],
   "source": [
    "# Running a Shapiro-Wilk hypothesis test for normality of distribution\n",
    "# H_0: The data are normally distributed\n",
    "\n",
    "alpha = 0.1\n",
    "shapiro_men = shapiro(men_stats_filtered_year['goals_scored'])\n",
    "shapiro_women = shapiro(women_stats_filtered_year['goals_scored'])\n",
    "\n",
    "print('From the Shapiro-Wilk test of normality we find that the p_value(men)=', shapiro_men[1], 'and the p_value(women)=', shapiro_women[1], '. Both are smaller than the confidence level alpha=', alpha, 'which leads to the fact that we should reject the null hypothesis that the data in both sets are normally distributed.')"
   ]
  },
  {
   "cell_type": "code",
   "execution_count": 78,
   "id": "d922e632-3441-4e66-89ff-dde674eaa97b",
   "metadata": {
    "chartConfig": {
     "bar": {
      "hasRoundedCorners": true,
      "stacked": false
     },
     "type": "bar",
     "version": "v1"
    },
    "executionCancelledAt": null,
    "executionTime": 52,
    "lastExecutedAt": 1717165818433,
    "lastExecutedByKernel": "65462e98-9d4d-4016-b1d3-492681c3cd67",
    "lastScheduledRunId": null,
    "lastSuccessfullyExecutedCode": "# Performing a non-parametric Wilcoxon-Mann-Whitney hypothesis test\n\nmen_stats_filtered_year.reset_index(drop =True, inplace = True)\nwomen_stats_filtered_year.reset_index(drop =True, inplace = True)\n\nmen_stats_filtered_year['men_goals_scored'] = men_stats_filtered_year['goals_scored']\nwomen_stats_filtered_year['women_goals_scored'] = women_stats_filtered_year['goals_scored']\n\n",
    "visualizeDataframe": false
   },
   "outputs": [],
   "source": [
    "# Reseting the index and modifying column header names for convenience\n",
    "\n",
    "men_stats_filtered_year.reset_index(drop =True, inplace = True)\n",
    "women_stats_filtered_year.reset_index(drop =True, inplace = True)\n",
    "\n",
    "men_stats_filtered_year['men_goals_scored'] = men_stats_filtered_year['goals_scored']\n",
    "women_stats_filtered_year['women_goals_scored'] = women_stats_filtered_year['goals_scored']"
   ]
  },
  {
   "cell_type": "code",
   "execution_count": 79,
   "id": "76a21d22-a0c5-4995-90ce-4cabafb44710",
   "metadata": {
    "executionCancelledAt": null,
    "executionTime": 49,
    "lastExecutedAt": 1717165818482,
    "lastExecutedByKernel": "65462e98-9d4d-4016-b1d3-492681c3cd67",
    "lastScheduledRunId": null,
    "lastSuccessfullyExecutedCode": "men_stats_filtered_year = men_stats_filtered_year.drop('goals_scored', axis =1)"
   },
   "outputs": [],
   "source": [
    "men_stats_filtered_year = men_stats_filtered_year.drop('goals_scored', axis =1)"
   ]
  },
  {
   "cell_type": "code",
   "execution_count": 80,
   "id": "1386c8a7-3ef4-41ad-8b79-d21d68ad0d47",
   "metadata": {
    "executionCancelledAt": null,
    "executionTime": 51,
    "lastExecutedAt": 1717165818533,
    "lastExecutedByKernel": "65462e98-9d4d-4016-b1d3-492681c3cd67",
    "lastScheduledRunId": null,
    "lastSuccessfullyExecutedCode": "women_stats_filtered_year = women_stats_filtered_year.drop('goals_scored', axis =1)"
   },
   "outputs": [],
   "source": [
    "women_stats_filtered_year = women_stats_filtered_year.drop('goals_scored', axis =1)"
   ]
  },
  {
   "cell_type": "code",
   "execution_count": 84,
   "id": "4281af0a-3ec2-4678-ae23-9c646b58978b",
   "metadata": {
    "executionCancelledAt": null,
    "executionTime": 14,
    "lastExecutedAt": 1717165946490,
    "lastExecutedByKernel": "65462e98-9d4d-4016-b1d3-492681c3cd67",
    "lastScheduledRunId": null,
    "lastSuccessfullyExecutedCode": "# Create a wide format for the relevant columns of the dataframes\n\nmen_vs_women = pd.concat([men_stats_filtered_year['men_goals_scored'], \n                          women_stats_filtered_year['women_goals_scored']], axis = 1)\n\nalpha = 0.1\nWMW_test = pingouin.mwu(x = men_vs_women['women_goals_scored'],\n             y = men_vs_women['men_goals_scored'],\n            alternative = 'greater')\n\np_value_array = WMW_test['p-val'].to_numpy()\np_val = p_value_array[0]\nresult = 'reject'\n\n# Condition to reject or fail to reject the null hypothesis\nif p_val > alpha:\n    result = 'fail to reject'\nelif p_val < alpha:\n    result = 'reject'\nelse:\n    result = 'incoclusive'",
    "outputsMetadata": {
     "0": {
      "height": 38,
      "type": "stream"
     }
    }
   },
   "outputs": [],
   "source": [
    "# Create a wide format for the relevant columns of the dataframes\n",
    "\n",
    "men_vs_women = pd.concat([men_stats_filtered_year['men_goals_scored'], \n",
    "                          women_stats_filtered_year['women_goals_scored']], axis = 1)\n",
    "\n",
    "# Performing a non-parametric Wilcoxon-Mann-Whitney hypothesis test\n",
    "\n",
    "alpha = 0.1\n",
    "WMW_test = pingouin.mwu(x = men_vs_women['women_goals_scored'],\n",
    "             y = men_vs_women['men_goals_scored'],\n",
    "            alternative = 'greater')\n",
    "\n",
    "p_value_array = WMW_test['p-val'].to_numpy()\n",
    "p_val = p_value_array[0]\n",
    "result = 'reject'\n",
    "\n",
    "# Condition to reject or fail to reject the null hypothesis\n",
    "\n",
    "if p_val > alpha:\n",
    "    result = 'fail to reject'\n",
    "elif p_val < alpha:\n",
    "    result = 'reject'\n",
    "else:\n",
    "    result = 'incoclusive'"
   ]
  },
  {
   "cell_type": "code",
   "execution_count": 85,
   "id": "42427bb2-6193-4677-8c74-0cba51c299d3",
   "metadata": {
    "executionCancelledAt": null,
    "executionTime": 13,
    "lastExecutedAt": 1717165951237,
    "lastExecutedByKernel": "65462e98-9d4d-4016-b1d3-492681c3cd67",
    "lastScheduledRunId": null,
    "lastSuccessfullyExecutedCode": "result_dict = {'p_val' : p_val, 'result' : result}\nprint(result_dict)",
    "outputsMetadata": {
     "0": {
      "height": 38,
      "type": "stream"
     }
    }
   },
   "outputs": [
    {
     "name": "stdout",
     "output_type": "stream",
     "text": [
      "{'p_val': 0.005106609825443641, 'result': 'reject'}\n"
     ]
    }
   ],
   "source": [
    "result_dict = {'p_val' : p_val, 'result' : result}\n",
    "print(result_dict)"
   ]
  }
 ],
 "metadata": {
  "colab": {
   "name": "Welcome to DataCamp Workspaces.ipynb",
   "provenance": []
  },
  "kernelspec": {
   "display_name": "Python 3 (ipykernel)",
   "language": "python",
   "name": "python3"
  },
  "language_info": {
   "codemirror_mode": {
    "name": "ipython",
    "version": 3
   },
   "file_extension": ".py",
   "mimetype": "text/x-python",
   "name": "python",
   "nbconvert_exporter": "python",
   "pygments_lexer": "ipython3",
   "version": "3.9.13"
  }
 },
 "nbformat": 4,
 "nbformat_minor": 5
}
